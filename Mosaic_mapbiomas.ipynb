{
  "cells": [
    {
      "cell_type": "markdown",
      "metadata": {
        "id": "view-in-github",
        "colab_type": "text"
      },
      "source": [
        "<a href=\"https://colab.research.google.com/github/barroso2501/GIS_MapBiomas/blob/main/Mosaic_mapbiomas.ipynb\" target=\"_parent\"><img src=\"https://colab.research.google.com/assets/colab-badge.svg\" alt=\"Open In Colab\"/></a>"
      ]
    },
    {
      "cell_type": "code",
      "execution_count": null,
      "metadata": {
        "colab": {
          "base_uri": "https://localhost:8080/"
        },
        "id": "a4SSSSPl8E1Q",
        "outputId": "4b21e884-708d-4eaa-8fe5-401a5000ca44"
      },
      "outputs": [
        {
          "output_type": "stream",
          "name": "stdout",
          "text": [
            "Mounted at /content/drive\n"
          ]
        }
      ],
      "source": [
        "from google.colab import drive\n",
        "drive.mount('/content/drive')\n"
      ]
    },
    {
      "cell_type": "code",
      "execution_count": null,
      "metadata": {
        "id": "a8ZTAQsk8aPg"
      },
      "outputs": [],
      "source": [
        "!apt-get install -qq libgdal-dev -y\n",
        "!pip install -q GDAL\n"
      ]
    },
    {
      "cell_type": "code",
      "execution_count": null,
      "metadata": {
        "id": "I-vupcGyyomc"
      },
      "outputs": [],
      "source": [
        "from google.colab import drive\n",
        "drive.mount('/content/drive')"
      ]
    },
    {
      "cell_type": "code",
      "execution_count": null,
      "metadata": {
        "colab": {
          "base_uri": "https://localhost:8080/"
        },
        "id": "mZuvYze-1jlW",
        "outputId": "dcdd1bb3-2638-4e80-963d-8a56cc3f22f1"
      },
      "outputs": [
        {
          "output_type": "stream",
          "name": "stdout",
          "text": [
            "Mosaico da banda 1 criado com sucesso!\n"
          ]
        }
      ],
      "source": [
        "#Para Marina executar\n",
        "#fazer o mosaico a partir de 1994 até 2021\n",
        "import os\n",
        "import glob\n",
        "from osgeo import gdal\n",
        "\n",
        "# Defina o caminho para os arquivos tif em seu Google Drive\n",
        "path = '/content/drive/MyDrive/MAPBIOMAS-EXPORT'\n",
        "\n",
        "# Pegue todos os arquivos que atendem ao padrão mencionado - AQUI ATUALIZA ANO\n",
        "file_list = glob.glob(os.path.join(path, '/content/drive/MyDrive/MAPBIOMAS-EXPORT/mapbiomas_-*.tif'))\n",
        "\n",
        "if not file_list:\n",
        "    print(\"Nenhum arquivo correspondente encontrado. Verifique o caminho e o padrão.\")\n",
        "    exit()\n",
        "\n",
        "# Supondo que todos os arquivos tenham 38 bandas como você mencionou\n",
        "num_bands = 1\n",
        "\n",
        "# Comece o loop a partir da banda 11\n",
        "start_band = 1\n",
        "\n",
        "for i in range(start_band, num_bands + 1):\n",
        "    temp_files = []\n",
        "\n",
        "    # Extraia cada banda para arquivos temporários\n",
        "    for file in file_list:\n",
        "        dst_file = os.path.join(path, f\"temp_band_{i}_{os.path.basename(file)}\")\n",
        "        temp_files.append(dst_file)\n",
        "\n",
        "        ds = gdal.Open(file)\n",
        "        band = ds.GetRasterBand(i)\n",
        "\n",
        "        array_data = band.ReadAsArray()\n",
        "\n",
        "        # Verificação adicional\n",
        "        if array_data is None or len(array_data.shape) != 2:\n",
        "            print(f\"Erro ao ler a banda {i} do arquivo {file}. Pulando esta banda.\")\n",
        "            continue\n",
        "\n",
        "        driver = gdal.GetDriverByName(\"GTiff\")\n",
        "        out_ds = driver.Create(dst_file, band.XSize, band.YSize, 1, gdal.GDT_Byte, options=['NBITS=4'])\n",
        "        out_ds.GetRasterBand(1).WriteArray(array_data)\n",
        "        out_ds.SetProjection(ds.GetProjection())\n",
        "        out_ds.SetGeoTransform(ds.GetGeoTransform())\n",
        "        out_ds.FlushCache()\n",
        "        out_ds = None\n",
        "        ds = None\n",
        "\n",
        "    # Mosaico dos arquivos temporários - ATUALIZAR ANO AQUI\n",
        "    output_file = os.path.join(path, f\"amz_pasto{i}.tif\")\n",
        "    cmd = ['gdal_merge.py', '-o', output_file, '-co', 'NBITS=4'] + temp_files\n",
        "    result = os.system(' '.join(cmd))\n",
        "\n",
        "    # Remover arquivos temporários\n",
        "    for temp_file in temp_files:\n",
        "        os.remove(temp_file)\n",
        "\n",
        "    # Verifique o status do comando\n",
        "    if result == 0:\n",
        "        print(f\"Mosaico da banda {i} criado com sucesso!\")\n",
        "    else:\n",
        "        print(f\"Erro ao criar o mosaico da banda {i}.\")\n"
      ]
    },
    {
      "cell_type": "code",
      "execution_count": null,
      "metadata": {
        "colab": {
          "base_uri": "https://localhost:8080/"
        },
        "id": "n6hDrIld1i3X",
        "outputId": "8de545a9-52a6-464b-bc36-bbfc39d1440c"
      },
      "outputs": [
        {
          "name": "stdout",
          "output_type": "stream",
          "text": [
            "Collecting rasterio\n",
            "  Downloading rasterio-1.3.10-cp310-cp310-manylinux2014_x86_64.whl (21.5 MB)\n",
            "\u001b[2K     \u001b[90m━━━━━━━━━━━━━━━━━━━━━━━━━━━━━━━━━━━━━━━━\u001b[0m \u001b[32m21.5/21.5 MB\u001b[0m \u001b[31m55.3 MB/s\u001b[0m eta \u001b[36m0:00:00\u001b[0m\n",
            "\u001b[?25hCollecting affine (from rasterio)\n",
            "  Downloading affine-2.4.0-py3-none-any.whl (15 kB)\n",
            "Requirement already satisfied: attrs in /usr/local/lib/python3.10/dist-packages (from rasterio) (23.2.0)\n",
            "Requirement already satisfied: certifi in /usr/local/lib/python3.10/dist-packages (from rasterio) (2024.2.2)\n",
            "Requirement already satisfied: click>=4.0 in /usr/local/lib/python3.10/dist-packages (from rasterio) (8.1.7)\n",
            "Requirement already satisfied: cligj>=0.5 in /usr/local/lib/python3.10/dist-packages (from rasterio) (0.7.2)\n",
            "Requirement already satisfied: numpy in /usr/local/lib/python3.10/dist-packages (from rasterio) (1.25.2)\n",
            "Collecting snuggs>=1.4.1 (from rasterio)\n",
            "  Downloading snuggs-1.4.7-py3-none-any.whl (5.4 kB)\n",
            "Requirement already satisfied: click-plugins in /usr/local/lib/python3.10/dist-packages (from rasterio) (1.1.1)\n",
            "Requirement already satisfied: setuptools in /usr/local/lib/python3.10/dist-packages (from rasterio) (67.7.2)\n",
            "Requirement already satisfied: pyparsing>=2.1.6 in /usr/local/lib/python3.10/dist-packages (from snuggs>=1.4.1->rasterio) (3.1.2)\n",
            "Installing collected packages: snuggs, affine, rasterio\n",
            "Successfully installed affine-2.4.0 rasterio-1.3.10 snuggs-1.4.7\n"
          ]
        }
      ],
      "source": [
        "!pip install rasterio"
      ]
    },
    {
      "cell_type": "code",
      "execution_count": null,
      "metadata": {
        "colab": {
          "base_uri": "https://localhost:8080/"
        },
        "id": "-tqNa5duxJ8J",
        "outputId": "b02b5af7-ddf3-415c-f895-fd0312c52475"
      },
      "outputs": [
        {
          "name": "stdout",
          "output_type": "stream",
          "text": [
            "Drive already mounted at /content/drive; to attempt to forcibly remount, call drive.mount(\"/content/drive\", force_remount=True).\n"
          ]
        },
        {
          "name": "stderr",
          "output_type": "stream",
          "text": [
            "/usr/local/lib/python3.10/dist-packages/rasterio/__init__.py:314: NotGeoreferencedWarning: Dataset has no geotransform, gcps, or rpcs. The identity matrix will be returned.\n",
            "  dataset = writer(\n"
          ]
        },
        {
          "name": "stdout",
          "output_type": "stream",
          "text": [
            "Raster final salvo em: /content/drive/MyDrive/mapbiomas_brasil_col71_soy/sequenci_soy_1.tif\n"
          ]
        }
      ],
      "source": [
        "import os\n",
        "import rasterio\n",
        "from rasterio.windows import Window\n",
        "import numpy as np\n",
        "from google.colab import drive\n",
        "\n",
        "# Montar o Google Drive no ponto padrão\n",
        "drive.mount('/content/drive')\n",
        "\n",
        "def process_rasters_in_blocks(base_path=\"/content/drive/MyDrive/MAPBIOMAS-EXPORT\",\n",
        "                              prefix='mosaic_usos',\n",
        "                              max_number=21,\n",
        "                              block_size=(1024, 1024)):\n",
        "    \"\"\"\n",
        "    Processa uma sequência de rasters em blocos e cria um novo raster.\n",
        "\n",
        "    Args:\n",
        "    base_path (str): Caminho base onde os rasters estão armazenados.\n",
        "    prefix (str): Prefixo dos arquivos raster.\n",
        "    max_number (int): Número máximo na sequência de rasters.\n",
        "    block_size (tuple): Tamanho do bloco para processamento (altura, largura).\n",
        "\n",
        "    Returns:\n",
        "    np.array: Uma matriz numpy representando o raster final.\n",
        "    \"\"\"\n",
        "\n",
        "    final_raster = None\n",
        "\n",
        "    for i in range(1, max_number + 1):\n",
        "        raster_path = os.path.join(base_path, f\"{prefix}_{i}.tif\")\n",
        "\n",
        "        if not os.path.exists(raster_path):\n",
        "            print(f\"Arquivo não encontrado: {raster_path}\")\n",
        "            continue\n",
        "\n",
        "        with rasterio.open(raster_path) as src:\n",
        "            # Inicializar o raster final com as dimensões e tipo do primeiro raster\n",
        "            if final_raster is None:\n",
        "                final_raster = np.zeros((src.height, src.width), dtype=src.dtypes[0])\n",
        "\n",
        "            # Processamento em blocos\n",
        "            for ji, window in src.block_windows(1):\n",
        "                raster_data = src.read(1, window=window)\n",
        "\n",
        "                # Aplicar a lógica condicional\n",
        "                value_to_assign = 22 - i\n",
        "                condition = (raster_data == 1) & (final_raster[window.row_off:window.row_off+window.height,\n",
        "                                                            window.col_off:window.col_off+window.width] == 0)\n",
        "                final_raster[window.row_off:window.row_off+window.height,\n",
        "                             window.col_off:window.col_off+window.width][condition] = value_to_assign\n",
        "\n",
        "    return final_raster\n",
        "\n",
        "base_path = '/content/drive/MyDrive/mapbiomas_brasil_col71_soy'\n",
        "prefix = 'mosaic_soy'\n",
        "max_number = 21\n",
        "\n",
        "final_raster = process_rasters_in_blocks(base_path, prefix, max_number)\n",
        "\n",
        "# Salvar o raster final\n",
        "final_path = os.path.join(base_path, \"sequenci_soy_1.tif\")\n",
        "with rasterio.open(final_path, 'w', driver='GTiff',\n",
        "                   height=final_raster.shape[0], width=final_raster.shape[1],\n",
        "                   count=1, dtype=final_raster.dtype) as dst:\n",
        "    dst.write(final_raster, 1)\n",
        "\n",
        "print(f\"Raster final salvo em: {final_path}\")\n"
      ]
    },
    {
      "cell_type": "code",
      "execution_count": null,
      "metadata": {
        "colab": {
          "base_uri": "https://localhost:8080/"
        },
        "id": "5DqD4xl5S2Ui",
        "outputId": "1f51d815-5743-420b-c29c-c8196023d80e"
      },
      "outputs": [
        {
          "output_type": "stream",
          "name": "stdout",
          "text": [
            "Mosaico da banda 1 criado com sucesso!\n"
          ]
        }
      ],
      "source": [
        "import os\n",
        "import glob\n",
        "from osgeo import gdal\n",
        "\n",
        "# Defina o caminho para os arquivos tif em seu Google Drive\n",
        "path = \"/content/drive/MyDrive/Download/MAPBIOMAS-EXPORT\"\n",
        "\n",
        "# Pegue todos os arquivos que atendem ao padrão mencionado\n",
        "file_list = glob.glob(os.path.join(path, \"/content/drive/MyDrive/MAPBIOMAS-EXPORT/mapbiomas_*.tif\"))\n",
        "\n",
        "if not file_list:\n",
        "    print(\"Nenhum arquivo correspondente encontrado. Verifique o caminho e o padrão.\")\n",
        "    exit()\n",
        "\n",
        "# Supondo que todos os arquivos tenham 38 bandas como você mencionou\n",
        "num_bands = 1\n",
        "\n",
        "# Comece o loop a partir da banda 11\n",
        "start_band = 1\n",
        "\n",
        "# ...\n",
        "\n",
        "for i in range(start_band, num_bands + 1):\n",
        "    temp_files = []\n",
        "\n",
        "    # Extraia cada banda para arquivos temporários\n",
        "    for file in file_list:\n",
        "        dst_file = os.path.join(path, f\"temp_band_{i}_{os.path.basename(file)}\")\n",
        "        temp_files.append(dst_file)\n",
        "\n",
        "        ds = gdal.Open(file)\n",
        "\n",
        "        # Verifique se a banda existe\n",
        "        if i > ds.RasterCount:\n",
        "            print(f\"O arquivo {file} não tem banda {i}. Pulando este arquivo.\")\n",
        "            continue\n",
        "\n",
        "        band = ds.GetRasterBand(i)\n",
        "\n",
        "        array_data = band.ReadAsArray()\n",
        "\n",
        "        # Verificação adicional\n",
        "        if array_data is None or len(array_data.shape) != 2:\n",
        "            print(f\"Erro ao ler a banda {i} do arquivo {file}. Pulando esta banda.\")\n",
        "            continue\n",
        "\n",
        "        driver = gdal.GetDriverByName(\"GTiff\")\n",
        "        out_ds = driver.Create(dst_file, band.XSize, band.YSize, 1, gdal.GDT_Byte, options=['NBITS=2'])\n",
        "        out_ds.GetRasterBand(1).WriteArray(array_data)\n",
        "        out_ds.SetProjection(ds.GetProjection())\n",
        "        out_ds.SetGeoTransform(ds.GetGeoTransform())\n",
        "        out_ds.FlushCache()\n",
        "        out_ds = None\n",
        "        ds = None\n",
        "\n",
        "    # ...\n",
        "\n",
        "\n",
        "    # Mosaico dos arquivos temporários\n",
        "    output_file = os.path.join(path, f\"mosaic_LULC_{i}.tif\")\n",
        "    cmd = ['gdal_merge.py', '-o', output_file, '-co', 'NBITS=4'] + temp_files\n",
        "    result = os.system(' '.join(cmd))\n",
        "\n",
        "    # Remover arquivos temporários\n",
        "    for temp_file in temp_files:\n",
        "        os.remove(temp_file)\n",
        "\n",
        "    # Verifique o status do comando\n",
        "    if result == 0:\n",
        "        print(f\"Mosaico da banda {i} criado com sucesso!\")\n",
        "    else:\n",
        "        print(f\"Erro ao criar o mosaico da banda {i}.\")\n"
      ]
    },
    {
      "cell_type": "code",
      "execution_count": null,
      "metadata": {
        "id": "5bD_r4HnS0lD"
      },
      "outputs": [],
      "source": []
    }
  ],
  "metadata": {
    "colab": {
      "machine_shape": "hm",
      "provenance": [],
      "include_colab_link": true
    },
    "kernelspec": {
      "display_name": "Python 3",
      "name": "python3"
    },
    "language_info": {
      "name": "python"
    }
  },
  "nbformat": 4,
  "nbformat_minor": 0
}